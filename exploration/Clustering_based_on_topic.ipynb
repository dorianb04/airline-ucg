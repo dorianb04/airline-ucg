{
  "cells": [
    {
      "cell_type": "code",
      "execution_count": 1,
      "metadata": {
        "id": "sXe07vtvt683"
      },
      "outputs": [],
      "source": [
        "import pandas as pd\n",
        "import matplotlib.pyplot as plt\n",
        "import seaborn as sns\n",
        "import nltk\n",
        "import string\n",
        "import re\n",
        "\n",
        "from wordcloud import WordCloud\n",
        "from nltk import bigrams\n",
        "from collections import Counter\n",
        "from nltk.corpus import stopwords"
      ]
    },
    {
      "cell_type": "code",
      "execution_count": null,
      "metadata": {
        "colab": {
          "base_uri": "https://localhost:8080/"
        },
        "id": "zyJ-XcXws3CN",
        "outputId": "9ad2f417-589d-41d4-b80b-fa12c68cfad1"
      },
      "outputs": [],
      "source": [
        "#cloning git\n",
        "!git clone https://github.com/dorianb04/airline-ucg"
      ]
    },
    {
      "cell_type": "code",
      "execution_count": 3,
      "metadata": {
        "id": "Fk8ow_F2t3p7"
      },
      "outputs": [],
      "source": [
        "companies = ['air-france', 'asiana-airlines', 'british-airways', 'iberia', 'japan-airlines-jal', 'lufthansa',\n",
        "             'or520-emirates', 'or1030-korean-air', 'qatar-airways', 'ryanair' ,'singapore_airlines',\n",
        "             'swiss-international-air-lines-swiss','turkish-airlines']"
      ]
    },
    {
      "cell_type": "code",
      "execution_count": 4,
      "metadata": {
        "id": "ePLYEtWf1n26"
      },
      "outputs": [],
      "source": [
        "dataframes = []\n",
        "for company in companies:\n",
        "    df = pd.read_csv(f'airline-ucg/cleaning/{company}_reviews_cleaned.csv')\n",
        "    df['company'] = company \n",
        "    dataframes.append(df)\n",
        "\n",
        "#concatenate everything in one dataframe\n",
        "data = pd.concat(dataframes, ignore_index=True)"
      ]
    },
    {
      "cell_type": "code",
      "execution_count": null,
      "metadata": {
        "colab": {
          "base_uri": "https://localhost:8080/"
        },
        "id": "Co5zRaqbzUQR",
        "outputId": "56f72326-7c2e-4d03-8740-261c7b4975da"
      },
      "outputs": [],
      "source": [
        "max(data['rating'])"
      ]
    },
    {
      "cell_type": "code",
      "execution_count": null,
      "metadata": {
        "colab": {
          "base_uri": "https://localhost:8080/"
        },
        "id": "k7Crr5NtzYUK",
        "outputId": "17d330e4-9f85-4db0-b0e4-f97b52da0e4a"
      },
      "outputs": [],
      "source": [
        "min(data['rating'])"
      ]
    },
    {
      "cell_type": "code",
      "execution_count": null,
      "metadata": {
        "colab": {
          "base_uri": "https://localhost:8080/"
        },
        "id": "NA9C4lIWznIH",
        "outputId": "5154ef0b-b61b-49c7-b2e5-393af58d43b3"
      },
      "outputs": [],
      "source": [
        "#define the value which separates statisfied and not satisfied customers\n",
        "lim_rating = 2.5\n",
        "\n",
        "lim_rating"
      ]
    },
    {
      "cell_type": "code",
      "execution_count": 8,
      "metadata": {
        "id": "cotturR12QWv"
      },
      "outputs": [],
      "source": [
        "#we create a column to categorize satisfied / not satisfied customers\n",
        "data['satisfaction'] = data['rating'].apply(lambda x: 'Satisfied' if x > lim_rating else 'Not Satisfied')"
      ]
    },
    {
      "cell_type": "code",
      "execution_count": null,
      "metadata": {
        "colab": {
          "base_uri": "https://localhost:8080/"
        },
        "id": "hKqfDecq4SH1",
        "outputId": "fc674086-c0b5-4fa5-924d-be2cc8fdb38f"
      },
      "outputs": [],
      "source": [
        "data.shape"
      ]
    },
    {
      "cell_type": "code",
      "execution_count": null,
      "metadata": {
        "colab": {
          "base_uri": "https://localhost:8080/",
          "height": 556
        },
        "id": "MM_1Vr5S2ckP",
        "outputId": "e0a3b38d-4de9-4874-9d65-865f9601304e"
      },
      "outputs": [],
      "source": [
        "data.head()"
      ]
    },
    {
      "cell_type": "code",
      "execution_count": null,
      "metadata": {
        "colab": {
          "base_uri": "https://localhost:8080/",
          "height": 178
        },
        "id": "pYzLaA3RYNoq",
        "outputId": "fc001b96-78c6-4194-8408-b1aa1b3b877b"
      },
      "outputs": [],
      "source": [
        "proportions_total = data['satisfaction'].value_counts(normalize=True)\n",
        "\n",
        "proportions_total"
      ]
    },
    {
      "cell_type": "code",
      "execution_count": null,
      "metadata": {
        "colab": {
          "base_uri": "https://localhost:8080/",
          "height": 488
        },
        "id": "Wk8ai7H72hFM",
        "outputId": "6a44f7f8-49ca-4ec3-c612-510c4d459caa"
      },
      "outputs": [],
      "source": [
        "#we compute the proportion of satisfied / not satisfied\n",
        "proportions = data.groupby(['company', 'satisfaction']).size().unstack(fill_value=0)\n",
        "proportions = proportions.div(proportions.sum(axis=1), axis=0)\n",
        "\n",
        "proportions_sorted = proportions.sort_values(by='Satisfied', ascending=False)\n",
        "\n",
        "proportions_sorted"
      ]
    },
    {
      "cell_type": "code",
      "execution_count": null,
      "metadata": {
        "colab": {
          "base_uri": "https://localhost:8080/",
          "height": 505
        },
        "id": "Ypt-d27o2o3t",
        "outputId": "307c8ef8-4211-4274-c4bc-030ea3cd1299"
      },
      "outputs": [],
      "source": [
        "plt.figure(figsize=(12, 8))\n",
        "proportions_sorted.plot(kind='bar', stacked=True, color=['#FF9999', '#66B3FF'], alpha=0.85)\n",
        "\n",
        "plt.title('Proportion of Satisfied vs Not Satisfied Customers by Airline', fontsize=14)\n",
        "plt.ylabel('Proportion', fontsize=12)\n",
        "plt.xlabel('Airline', fontsize=12)\n",
        "plt.xticks(rotation=45, ha='right')\n",
        "plt.legend(title='Satisfaction', loc='upper right')\n",
        "plt.tight_layout()\n",
        "\n",
        "plt.show()"
      ]
    },
    {
      "cell_type": "code",
      "execution_count": null,
      "metadata": {
        "colab": {
          "base_uri": "https://localhost:8080/"
        },
        "id": "4dT_MwYed51t",
        "outputId": "9d7b9986-7d1e-4ad7-ee7a-ad03a87cbdcb"
      },
      "outputs": [],
      "source": [
        "nltk.download('stopwords')\n",
        "stop_words = set(stopwords.words('english'))"
      ]
    },
    {
      "cell_type": "code",
      "execution_count": 15,
      "metadata": {
        "id": "ewUng9LKjQvb"
      },
      "outputs": [],
      "source": [
        "# Preprocess: delete stopwords, lower, remove punctuation\n",
        "def preprocess_text(text):\n",
        "    text = ''.join(char for char in text if char not in string.punctuation)\n",
        "    text = text.lower()\n",
        "    return ' '.join(word for word in text.split() if word not in stop_words)"
      ]
    },
    {
      "cell_type": "code",
      "execution_count": 16,
      "metadata": {
        "id": "zJP10JiYRS9J"
      },
      "outputs": [],
      "source": [
        "def generate_bigram_wordcloud(data, company_name, min_bigrams):\n",
        "    # Filter data for the company\n",
        "    company_data = data[data['company'] == company_name]\n",
        "\n",
        "    company_data['cleaned_review_text'] = company_data['review_text'].dropna().apply(preprocess_text)\n",
        "\n",
        "    # Extract bigrams\n",
        "    all_text = ' '.join(company_data['cleaned_review_text'].dropna())\n",
        "    bigram_list = list(bigrams(all_text.split()))\n",
        "    bigram_counts = Counter(bigram_list)\n",
        "\n",
        "    # Filter bigrams appearing more than `min_bigrams` times\n",
        "    frequent_bigrams = {f\"{w1} {w2}\": count for (w1, w2), count in bigram_counts.items() if count > min_bigrams}\n",
        "\n",
        "    # Calculate average ratings for each bigram and count occurrences\n",
        "    def bigram_rating(bigram):\n",
        "        pattern = r'\\b{}\\b \\b{}\\b'.format(bigram[0], bigram[1])\n",
        "        reviews_containing_bigram = company_data[company_data['cleaned_review_text'].str.contains(pattern, na=False, regex=True)]\n",
        "        return reviews_containing_bigram['rating'].mean(), len(reviews_containing_bigram)\n",
        "\n",
        "    bigram_ratings = {bigram: bigram_rating(tuple(bigram.split())) for bigram in frequent_bigrams.keys()}\n",
        "\n",
        "    # Define min/max rating\n",
        "    min_rating = 1\n",
        "    max_rating = 5\n",
        "\n",
        "    # Define color scale logic\n",
        "    def color_func(word, font_size, position, orientation, random_state=None, **kwargs):\n",
        "        rating, _ = bigram_ratings[word]\n",
        "\n",
        "        # color according to the rating\n",
        "        if rating <= 1.5:  # dark red\n",
        "            color = sns.color_palette(\"Reds\", 7)[6]\n",
        "        elif rating <= 2.2:  # red\n",
        "            color = sns.color_palette(\"Reds\", 7)[4]\n",
        "        elif rating <= 2.8:  # grey\n",
        "            color = sns.color_palette(\"Greys\", 7)[4]\n",
        "        elif rating <= 3.5:  # green\n",
        "            color = sns.color_palette(\"Greens\", 7)[2]\n",
        "        else:  # dark green\n",
        "            color = sns.color_palette(\"Greens\", 7)[6]\n",
        "\n",
        "        # RGB\n",
        "        return tuple([int(c * 255) for c in color[:3]])\n",
        "\n",
        "    # Generate word cloud\n",
        "    wc = WordCloud(width=800, height=400, background_color='white', color_func=color_func).generate_from_frequencies(frequent_bigrams)\n",
        "\n",
        "    # Display word cloud\n",
        "    plt.figure(figsize=(10, 5))\n",
        "    plt.imshow(wc, interpolation='bilinear')\n",
        "    plt.axis('off')\n",
        "    plt.title(f\"Bigram WordCloud for {company_name}\", fontsize=16)\n",
        "    plt.show()\n",
        "\n",
        "    # Print bigram ratings and frequencies\n",
        "    for bigram, (rating, count) in bigram_ratings.items():\n",
        "        print(f\"Bigram: {bigram}, Avg. Rating: {rating:.2f}, Count: {count}\")\n"
      ]
    },
    {
      "cell_type": "code",
      "execution_count": null,
      "metadata": {
        "colab": {
          "base_uri": "https://localhost:8080/",
          "height": 1000
        },
        "id": "KZXZAb6IePEB",
        "outputId": "d516a8f4-e39b-4ca2-b26a-c19b57fb5707"
      },
      "outputs": [],
      "source": [
        "generate_bigram_wordcloud(data, 'air-france', 100)"
      ]
    },
    {
      "cell_type": "code",
      "execution_count": null,
      "metadata": {
        "colab": {
          "base_uri": "https://localhost:8080/",
          "height": 1000
        },
        "id": "1QufFBUcBgcE",
        "outputId": "39716fb0-1980-4902-87ec-ad37a8bdfc12"
      },
      "outputs": [],
      "source": [
        "generate_bigram_wordcloud(data, 'asiana-airlines', 50)"
      ]
    },
    {
      "cell_type": "code",
      "execution_count": null,
      "metadata": {
        "colab": {
          "base_uri": "https://localhost:8080/",
          "height": 1000
        },
        "id": "ixOD9mgmCeHQ",
        "outputId": "ee3f1a26-1373-4b93-eeb5-1e1af9ef7ca0"
      },
      "outputs": [],
      "source": [
        "generate_bigram_wordcloud(data, 'british-airways', 150)"
      ]
    },
    {
      "cell_type": "code",
      "execution_count": null,
      "metadata": {
        "colab": {
          "base_uri": "https://localhost:8080/",
          "height": 1000
        },
        "id": "NWAJyiBJaAu-",
        "outputId": "1db3a480-2f4c-4025-f991-c3b1e3e8d0fc"
      },
      "outputs": [],
      "source": [
        "generate_bigram_wordcloud(data, 'iberia', 150)"
      ]
    },
    {
      "cell_type": "code",
      "execution_count": null,
      "metadata": {
        "colab": {
          "base_uri": "https://localhost:8080/",
          "height": 772
        },
        "id": "E-a1b3bYaJN2",
        "outputId": "8181bca8-fa49-430a-aed8-e3b683bae736"
      },
      "outputs": [],
      "source": [
        "generate_bigram_wordcloud(data, 'japan-airlines-jal', 150)"
      ]
    },
    {
      "cell_type": "code",
      "execution_count": null,
      "metadata": {
        "colab": {
          "base_uri": "https://localhost:8080/",
          "height": 1000
        },
        "id": "Q6bkg2NCaJtK",
        "outputId": "ed71bf88-9eb3-4a42-e515-ebf7e9e5250d"
      },
      "outputs": [],
      "source": [
        "generate_bigram_wordcloud(data, 'lufthansa', 150)"
      ]
    },
    {
      "cell_type": "code",
      "execution_count": null,
      "metadata": {
        "colab": {
          "base_uri": "https://localhost:8080/",
          "height": 899
        },
        "id": "f-14jL7AaKN7",
        "outputId": "5fd9adbd-2e3f-4e5e-c4c4-98893bc050af"
      },
      "outputs": [],
      "source": [
        "generate_bigram_wordcloud(data, 'or520-emirates', 150)"
      ]
    },
    {
      "cell_type": "code",
      "execution_count": null,
      "metadata": {
        "colab": {
          "base_uri": "https://localhost:8080/",
          "height": 808
        },
        "id": "toDrvnz7aSFJ",
        "outputId": "f0ba9875-abea-4805-fca3-683c115fe88b"
      },
      "outputs": [],
      "source": [
        "generate_bigram_wordcloud(data, 'or1030-korean-air', 150)"
      ]
    },
    {
      "cell_type": "code",
      "execution_count": null,
      "metadata": {
        "colab": {
          "base_uri": "https://localhost:8080/",
          "height": 1000
        },
        "id": "FzS4tkH8aStf",
        "outputId": "fd0ea029-9ca4-4eed-e3e5-c697d44ff81a"
      },
      "outputs": [],
      "source": [
        "generate_bigram_wordcloud(data, 'qatar-airways', 150)"
      ]
    },
    {
      "cell_type": "code",
      "execution_count": null,
      "metadata": {
        "colab": {
          "base_uri": "https://localhost:8080/",
          "height": 899
        },
        "id": "Kbocp9kYaTXS",
        "outputId": "b0a6954d-1f0c-4415-9196-882b2b0dfa24"
      },
      "outputs": [],
      "source": [
        "generate_bigram_wordcloud(data, 'ryanair', 150)"
      ]
    },
    {
      "cell_type": "code",
      "execution_count": null,
      "metadata": {
        "colab": {
          "base_uri": "https://localhost:8080/",
          "height": 1000
        },
        "id": "vCk6LAK-acL1",
        "outputId": "45bf1844-2c9b-43d1-de53-8be6b86fd214"
      },
      "outputs": [],
      "source": [
        "generate_bigram_wordcloud(data, 'singapore_airlines', 150)"
      ]
    },
    {
      "cell_type": "code",
      "execution_count": null,
      "metadata": {
        "colab": {
          "base_uri": "https://localhost:8080/",
          "height": 971
        },
        "id": "4xyM3CgFaceF",
        "outputId": "e1bd8a3d-a120-42b9-b9d0-ad10af1140cd"
      },
      "outputs": [],
      "source": [
        "generate_bigram_wordcloud(data, 'swiss-international-air-lines-swiss', 150)"
      ]
    },
    {
      "cell_type": "code",
      "execution_count": null,
      "metadata": {
        "colab": {
          "base_uri": "https://localhost:8080/",
          "height": 1000
        },
        "id": "0FyxQh3Xacy-",
        "outputId": "189c0065-86fb-49e2-c950-132aa9283981"
      },
      "outputs": [],
      "source": [
        "generate_bigram_wordcloud(data, 'turkish-airlines', 150)"
      ]
    },
    {
      "cell_type": "code",
      "execution_count": null,
      "metadata": {
        "colab": {
          "base_uri": "https://localhost:8080/",
          "height": 556
        },
        "id": "swNgela6lYCU",
        "outputId": "11575367-f00c-4271-eca7-b811584c7e8e"
      },
      "outputs": [],
      "source": [
        "data.head()"
      ]
    },
    {
      "cell_type": "code",
      "execution_count": 31,
      "metadata": {
        "id": "fNbiOPxelgyT"
      },
      "outputs": [],
      "source": [
        "# Compute the number of times a route is mentioned in a negative review\n",
        "def bad_travels(data, company):\n",
        "    # Filter data for the given company\n",
        "    company_data_neg = data[(data['company'] == company) & (data['satisfaction'] == 'Not Satisfied')]\n",
        "    company_data_pos = data[(data['company'] == company) & (data['satisfaction'] == 'Satisfied')]\n",
        "\n",
        "    # Count negative and positive reviews for each route\n",
        "    nb_neg = company_data_neg.groupby(['departure', 'destination']).size().reset_index(name='neg_count')\n",
        "    nb_pos = company_data_pos.groupby(['departure', 'destination']).size().reset_index(name='pos_count')\n",
        "\n",
        "    # Merge negative and positive counts\n",
        "    merged_counts = pd.merge(nb_neg, nb_pos, on=['departure', 'destination'], how='outer').fillna(0)\n",
        "\n",
        "    # Calculate the ratio of negative mentions to total mentions\n",
        "    merged_counts['total_count'] = merged_counts['neg_count'] + merged_counts['pos_count']\n",
        "    merged_counts['neg_ratio'] = merged_counts['neg_count'] / merged_counts['total_count']\n",
        "\n",
        "    # Filter routes mentioned more than 50 times\n",
        "    merged_counts_filtered = merged_counts[merged_counts['total_count'] > 50]\n",
        "\n",
        "    # Sort by negative ratio\n",
        "    merged_counts_sorted = merged_counts_filtered.sort_values(by='neg_ratio', ascending=False)\n",
        "\n",
        "    # Select the top 10 routes\n",
        "    top_10_routes = merged_counts_sorted.head(10)\n",
        "\n",
        "    # Plot the top routes\n",
        "    plt.figure(figsize=(12, 8))\n",
        "    plt.bar(\n",
        "        x=top_10_routes.apply(lambda row: f\"{row['departure']} -> {row['destination']}\", axis=1),\n",
        "        height=top_10_routes['neg_ratio'],\n",
        "        color='#FF9999',\n",
        "        alpha=0.85\n",
        "    )\n",
        "\n",
        "    # Add titles and labels\n",
        "    plt.title(f'Ratio a route is mentioned in a negative review (min 50 times) ({company})', fontsize=14)\n",
        "    plt.ylabel('Ratio of Negative Mentions/Total Mentions', fontsize=12)\n",
        "    plt.xlabel('Route', fontsize=12)\n",
        "    plt.xticks(rotation=45, ha='right')\n",
        "    plt.tight_layout()\n",
        "\n",
        "    # Show the plot\n",
        "    plt.show()\n",
        "\n"
      ]
    },
    {
      "cell_type": "code",
      "execution_count": null,
      "metadata": {
        "colab": {
          "base_uri": "https://localhost:8080/",
          "height": 1000
        },
        "id": "YpCGFSOLoqeO",
        "outputId": "269f0827-6023-42ed-df5c-bff37d44a98e"
      },
      "outputs": [],
      "source": [
        "for company in companies:\n",
        "    company_name = company\n",
        "    bad_travels(data, company_name)"
      ]
    },
    {
      "cell_type": "code",
      "execution_count": 33,
      "metadata": {
        "id": "I3tWJJCMqQ_w"
      },
      "outputs": [],
      "source": [
        "# Compute the number of times a route is mentioned in a positive review\n",
        "def good_travels(data, company):\n",
        "    # Filter data for the given company\n",
        "    company_data_neg = data[(data['company'] == company) & (data['satisfaction'] == 'Not Satisfied')]\n",
        "    company_data_pos = data[(data['company'] == company) & (data['satisfaction'] == 'Satisfied')]\n",
        "\n",
        "    # Count negative and positive reviews for each route\n",
        "    nb_neg = company_data_neg.groupby(['departure', 'destination']).size().reset_index(name='neg_count')\n",
        "    nb_pos = company_data_pos.groupby(['departure', 'destination']).size().reset_index(name='pos_count')\n",
        "\n",
        "    # Merge negative and positive counts\n",
        "    merged_counts = pd.merge(nb_neg, nb_pos, on=['departure', 'destination'], how='outer').fillna(0)\n",
        "\n",
        "    # Calculate the ratio of positive mentions to total mentions\n",
        "    merged_counts['total_count'] = merged_counts['neg_count'] + merged_counts['pos_count']\n",
        "    merged_counts['pos_ratio'] = merged_counts['pos_count'] / merged_counts['total_count']\n",
        "\n",
        "    # Filter routes mentioned more than 50 times\n",
        "    merged_counts_filtered = merged_counts[merged_counts['total_count'] > 50]\n",
        "\n",
        "    # Sort by positive ratio\n",
        "    merged_counts_sorted = merged_counts_filtered.sort_values(by='pos_ratio', ascending=False)\n",
        "\n",
        "    # Select the top 10 routes\n",
        "    top_10_routes = merged_counts_sorted.head(10)\n",
        "\n",
        "    # Plot the top routes\n",
        "    plt.figure(figsize=(12, 8))\n",
        "    plt.bar(\n",
        "        x=top_10_routes.apply(lambda row: f\"{row['departure']} -> {row['destination']}\", axis=1),\n",
        "        height=top_10_routes['pos_ratio'],\n",
        "        color='#66B3FF',\n",
        "        alpha=0.85\n",
        "    )\n",
        "\n",
        "    # Add titles and labels\n",
        "    plt.title(f'Ratio a route is mentioned in a positive review (min 50 times) ({company})', fontsize=14)\n",
        "    plt.ylabel('Ratio of Positive Mentions/Total Mentions', fontsize=12)\n",
        "    plt.xlabel('Route', fontsize=12)\n",
        "    plt.xticks(rotation=45, ha='right')\n",
        "    plt.tight_layout()\n",
        "\n",
        "    # Show the plot\n",
        "    plt.show()"
      ]
    },
    {
      "cell_type": "code",
      "execution_count": null,
      "metadata": {
        "colab": {
          "base_uri": "https://localhost:8080/",
          "height": 1000
        },
        "id": "xvp7TmTRqQ_x",
        "outputId": "ee9861fe-be92-4777-dffd-0513ed247efc"
      },
      "outputs": [],
      "source": [
        "for company in companies:\n",
        "    company_name = company\n",
        "    good_travels(data, company_name)"
      ]
    },
    {
      "cell_type": "code",
      "execution_count": 40,
      "metadata": {
        "id": "TmEZIcghlVKZ"
      },
      "outputs": [],
      "source": [
        "def interactive_bigram_wordcloud(data, min_bigrams=2):\n",
        "    # Get unique options for user selection\n",
        "    companies = sorted(data['company'].unique())\n",
        "\n",
        "    # User selects the company\n",
        "    print(\"Available Companies:\")\n",
        "    for i, company in enumerate(companies, 1):\n",
        "        print(f\"{i}. {company}\")\n",
        "    company_choice = int(input(\"Select a company (enter the number): \"))\n",
        "    company_name = companies[company_choice - 1]\n",
        "\n",
        "    # Filter data for the selected company\n",
        "    company_data = data[data['company'] == company_name]\n",
        "\n",
        "    # User specifies the travel date range\n",
        "    print(\"\\nSpecify the travel date range (YYYY-MM-DD):\")\n",
        "    start_date1 = input(\"Start date: \")\n",
        "    end_date1 = input(\"End date: \")\n",
        "\n",
        "    start_date = start_date1\n",
        "    end_date = end_date1\n",
        "\n",
        "    # Convert to datetime and filter the data\n",
        "    company_data['travel_date'] = pd.to_datetime(company_data['travel_date'])\n",
        "    start_date = pd.to_datetime(start_date)\n",
        "    end_date = pd.to_datetime(end_date)\n",
        "    company_data = company_data[(company_data['travel_date'] >= start_date) & (company_data['travel_date'] <= end_date)]\n",
        "\n",
        "    if company_data.empty:\n",
        "        print(\"\\nNo data available for the selected date range.\")\n",
        "        return\n",
        "\n",
        "    # User selects the departure city\n",
        "    departure_cities = sorted(company_data['departure'].unique())\n",
        "    print(\"\\nAvailable Departure Cities:\")\n",
        "    for i, city in enumerate(departure_cities, 1):\n",
        "        print(f\"{i}. {city}\")\n",
        "    departure_choice = int(input(\"Select a departure city (enter the number): \"))\n",
        "    departure_city = departure_cities[departure_choice - 1]\n",
        "\n",
        "    # Filter data for the selected departure city\n",
        "    departure_data = company_data[company_data['departure'] == departure_city]\n",
        "\n",
        "    # User selects the destination city\n",
        "    destination_cities = sorted(departure_data['destination'].unique())\n",
        "    print(\"\\nAvailable Destination Cities:\")\n",
        "    for i, city in enumerate(destination_cities, 1):\n",
        "        print(f\"{i}. {city}\")\n",
        "    destination_choice = int(input(\"Select a destination city (enter the number): \"))\n",
        "    destination_city = destination_cities[destination_choice - 1]\n",
        "\n",
        "    # Filter data for the selected destination city\n",
        "    route_data = departure_data[departure_data['destination'] == destination_city]\n",
        "\n",
        "    # Calculate the number of comments and average satisfaction ratio\n",
        "    total_comments = len(route_data)\n",
        "    if total_comments > 0:\n",
        "        avg_satisfaction = route_data['rating'].mean()\n",
        "    else:\n",
        "        avg_satisfaction = 0\n",
        "\n",
        "    print(f\"\\nNumber of Comments: {total_comments}\")\n",
        "    print(f\"Average Satisfaction Ratio: {avg_satisfaction:.2f}\")\n",
        "\n",
        "    route_data['cleaned_review_text'] = route_data['review_text'].dropna().apply(preprocess_text)\n",
        "\n",
        "    # Extract bigrams\n",
        "    all_text = ' '.join(route_data['cleaned_review_text'].dropna())\n",
        "    bigram_list = list(bigrams(all_text.split()))\n",
        "    bigram_counts = Counter(bigram_list)\n",
        "\n",
        "    # Filter bigrams appearing more than `min_bigrams` times\n",
        "    frequent_bigrams = {f\"{w1} {w2}\": count for (w1, w2), count in bigram_counts.items() if count > min_bigrams}\n",
        "\n",
        "    # Calculate average ratings for each bigram and count occurrences\n",
        "    def bigram_rating(bigram):\n",
        "        pattern = r'\\b{}\\b \\b{}\\b'.format(bigram[0], bigram[1])\n",
        "        reviews_containing_bigram = route_data[route_data['cleaned_review_text'].str.contains(pattern, na=False, regex=True)]\n",
        "        return reviews_containing_bigram['rating'].mean(), len(reviews_containing_bigram)\n",
        "\n",
        "    bigram_ratings = {bigram: bigram_rating(tuple(bigram.split())) for bigram in frequent_bigrams.keys()}\n",
        "\n",
        "    # Define min/max rating\n",
        "    min_rating = 1\n",
        "    max_rating = 5\n",
        "\n",
        "    # Define color scale logic\n",
        "    def color_func(word, font_size, position, orientation, random_state=None, **kwargs):\n",
        "        rating, _ = bigram_ratings[word]\n",
        "\n",
        "        # Color according to the rating\n",
        "        if rating <= 1.5:  # Dark red\n",
        "            color = sns.color_palette(\"Reds\", 7)[6]\n",
        "        elif rating <= 2.2:  # Red\n",
        "            color = sns.color_palette(\"Reds\", 7)[4]\n",
        "        elif rating <= 2.8:  # Grey\n",
        "            color = sns.color_palette(\"Greys\", 7)[4]\n",
        "        elif rating <= 3.5:  # Light green\n",
        "            color = sns.color_palette(\"Greens\", 7)[2]\n",
        "        else:  # Dark green\n",
        "            color = sns.color_palette(\"Greens\", 7)[6]\n",
        "\n",
        "        return tuple([int(c * 255) for c in color[:3]])\n",
        "\n",
        "    # Generate word cloud\n",
        "    wc = WordCloud(width=800, height=400, background_color='white', color_func=color_func).generate_from_frequencies(frequent_bigrams)\n",
        "\n",
        "    # Display word cloud\n",
        "    plt.figure(figsize=(10, 5))\n",
        "    plt.imshow(wc, interpolation='bilinear')\n",
        "    plt.axis('off')\n",
        "    plt.title(f\"Bigram WordCloud for {company_name} ({departure_city} -> {destination_city}) ({start_date1} -> {end_date1})\", fontsize=16)\n",
        "    plt.show()\n",
        "\n",
        "    # Print bigram ratings and frequencies\n",
        "    for bigram, (rating, count) in bigram_ratings.items():\n",
        "        print(f\"Bigram: {bigram}, Avg. Rating: {rating:.2f}, Count: {count}\")\n"
      ]
    },
    {
      "cell_type": "code",
      "execution_count": null,
      "metadata": {
        "colab": {
          "base_uri": "https://localhost:8080/",
          "height": 1000
        },
        "id": "U2Ri83Fpla1o",
        "outputId": "548773dd-2c65-4c8e-bc7c-673365430935"
      },
      "outputs": [],
      "source": [
        "interactive_bigram_wordcloud(data, 2)"
      ]
    }
  ],
  "metadata": {
    "colab": {
      "provenance": []
    },
    "kernelspec": {
      "display_name": "ml",
      "language": "python",
      "name": "python3"
    },
    "language_info": {
      "name": "python",
      "version": "3.11.10"
    }
  },
  "nbformat": 4,
  "nbformat_minor": 0
}
